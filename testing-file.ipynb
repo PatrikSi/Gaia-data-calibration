{
 "cells": [
  {
   "cell_type": "code",
   "execution_count": 3,
   "id": "initial_id",
   "metadata": {
    "collapsed": true,
    "ExecuteTime": {
     "end_time": "2023-09-25T13:31:34.767421312Z",
     "start_time": "2023-09-25T13:31:33.191741205Z"
    }
   },
   "outputs": [],
   "source": [
    "import numpy as np\n",
    "import pandas as pd\n",
    "import matplotlib.pyplot as plt\n",
    "\n",
    "import os\n",
    "import csv\n",
    "\n",
    "import gaiaxpy"
   ]
  },
  {
   "cell_type": "code",
   "execution_count": 38,
   "outputs": [],
   "source": [
    "def convert_csv(file_path):\n",
    "    with open(file_path, 'r') as csv_file:\n",
    "        csv_reader = csv.reader(csv_file)\n",
    "        with open(f'data-53-txt/{file_path[10:-4]}.txt', 'w') as txt_file:\n",
    "            for row in csv_reader:\n",
    "                txt_file.write(' '.join(row) + '\\n')"
   ],
   "metadata": {
    "collapsed": false,
    "ExecuteTime": {
     "end_time": "2023-09-25T13:34:11.983313378Z",
     "start_time": "2023-09-25T13:34:11.939304725Z"
    }
   },
   "id": "f9691cdc7399a6ae"
  },
  {
   "cell_type": "code",
   "execution_count": 39,
   "outputs": [
    {
     "data": {
      "text/plain": "['22745910577134848',\n '418001477279154304',\n '3704392873141718912',\n '6749419923164242816',\n '984190381489031424',\n '4237169341286788096',\n '3302846072717868416',\n '45980377978968064',\n '5444093531284061568',\n '2405805697263561600',\n '3079329274484276480',\n '2633603478379307904',\n '3772994667772794112',\n '2901155648586891648',\n '6903096911032851584',\n '3944400490365194368',\n '4249667902270614272',\n '3289827339649866880',\n '266077145295627520',\n '2448177130188111232',\n '3918811315733520640',\n '3348071631670500736',\n '3629615946329315456',\n '3935488605023787392',\n '4452521234885949184',\n '1473687671071803520',\n '2375647158466154112',\n '6210089815971933056',\n '3652142603120146560',\n '6018034958869558912',\n '4922382445088509312',\n '2398029465700538880',\n '6709878766312642944',\n '1510374147844219904',\n '4646535078125821568',\n '781164326766404736',\n '3304090857318319232',\n '775029739076581248',\n '6127333286605955072',\n '3959631234670040704',\n '4016474027321256704',\n '3587107658569000960',\n '3257402879184420736',\n '2717594072113956352',\n '2814629409239942272',\n '4855735169813450624',\n '2693940725141960192',\n '5024640977840398848',\n '792588939773693568',\n '2687733913283870336',\n '3251244858154433536',\n '2910503176753011840',\n '5639391810273308416']"
     },
     "execution_count": 39,
     "metadata": {},
     "output_type": "execute_result"
    }
   ],
   "source": [
    "directory = './data-53'\n",
    "\n",
    "def get_unique_target_ids():\n",
    "    arr = []\n",
    "    for filename in os.listdir(directory):\n",
    "        arr.append(filename.rsplit('_')[0])\n",
    "    return list(set(arr))\n",
    "\n",
    "target_ids = get_unique_target_ids()\n",
    "target_ids"
   ],
   "metadata": {
    "collapsed": false,
    "ExecuteTime": {
     "end_time": "2023-09-25T13:34:12.472274937Z",
     "start_time": "2023-09-25T13:34:12.461930828Z"
    }
   },
   "id": "c0fd1b32dc5eaee7"
  },
  {
   "cell_type": "code",
   "execution_count": 40,
   "outputs": [],
   "source": [
    "data_dict = {}\n",
    "\n",
    "for filename in os.listdir(directory):\n",
    "    if filename.endswith('.csv'):\n",
    "        identifier, file_type = filename.rsplit('_', 1)[0], filename.rsplit('_', 1)[1].split('.')[0]\n",
    "\n",
    "        # Read the file contents\n",
    "        file_path = os.path.join(directory, filename)\n",
    "        convert_csv(file_path)"
   ],
   "metadata": {
    "collapsed": false,
    "ExecuteTime": {
     "end_time": "2023-09-25T13:34:13.006001451Z",
     "start_time": "2023-09-25T13:34:12.926512719Z"
    }
   },
   "id": "29e68051c8ff2fa7"
  },
  {
   "cell_type": "code",
   "execution_count": 46,
   "outputs": [],
   "source": [
    "def parse_file(file_path):\n",
    "    entities = []\n",
    "    current_entity = {'id': None, 'array1': [], 'array2': []}\n",
    "    current_array = None  # Will hold which array we are currently filling ('array1' or 'array2')\n",
    "\n",
    "    with open(file_path, 'r') as f:\n",
    "        next(f)  # Skip the first line\n",
    "        for line in f:\n",
    "            line = line.strip()\n",
    "\n",
    "            # Case 1: New ID found\n",
    "            if line.isdigit():\n",
    "                # Save the previous entity if it's complete\n",
    "                if current_entity['id'] is not None:\n",
    "                    entities.append(current_entity.copy())\n",
    "\n",
    "                # Reset current_entity and current_array\n",
    "                current_entity = {'id': line, 'array1': [], 'array2': []}\n",
    "                current_array = 'array1'\n",
    "\n",
    "            # Case 2: Line is part of an array\n",
    "            elif current_array:  # Ensure current_array is not None\n",
    "                # Remove brackets and split the line into numbers\n",
    "                numbers = list(map(int, line.replace('[', '').replace(']', '').split()))\n",
    "\n",
    "                # Extend the current array with these numbers\n",
    "                current_entity[current_array].extend(numbers)\n",
    "\n",
    "                # Switch to the second array if the first array is closed\n",
    "                if line.endswith(']'):\n",
    "                    current_array = 'array2'\n",
    "\n",
    "    # Don't forget to add the last entity\n",
    "    if current_entity['id'] is not None:\n",
    "        entities.append(current_entity.copy())\n",
    "\n",
    "    return entities"
   ],
   "metadata": {
    "collapsed": false,
    "ExecuteTime": {
     "end_time": "2023-09-25T13:50:47.484474965Z",
     "start_time": "2023-09-25T13:50:47.475724342Z"
    }
   },
   "id": "d10ba95f34e95ead"
  },
  {
   "cell_type": "code",
   "execution_count": 49,
   "outputs": [
    {
     "name": "stdout",
     "output_type": "stream",
     "text": [
      "{'data-53-txt/spdata/3918811315733520640_spdata.txt': [], 'data-53-txt/spdata/6903096911032851584_spdata.txt': [], 'data-53-txt/spdata/1510374147844219904_spdata.txt': [], 'data-53-txt/spdata/4646535078125821568_spdata.txt': [], 'data-53-txt/spdata/4452521234885949184_spdata.txt': [], 'data-53-txt/spdata/418001477279154304_spdata.txt': [], 'data-53-txt/spdata/3652142603120146560_spdata.txt': [], 'data-53-txt/spdata/4855735169813450624_spdata.txt': [], 'data-53-txt/spdata/266077145295627520_spdata.txt': [], 'data-53-txt/spdata/781164326766404736_spdata.txt': [], 'data-53-txt/spdata/3935488605023787392_spdata.txt': [], 'data-53-txt/spdata/2633603478379307904_spdata.txt': [], 'data-53-txt/spdata/3079329274484276480_spdata.txt': [], 'data-53-txt/spdata/3302846072717868416_spdata.txt': [], 'data-53-txt/spdata/6018034958869558912_spdata.txt': [], 'data-53-txt/spdata/2814629409239942272_spdata.txt': [], 'data-53-txt/spdata/3772994667772794112_spdata.txt': [], 'data-53-txt/spdata/792588939773693568_spdata.txt': [], 'data-53-txt/spdata/2375647158466154112_spdata.txt': [], 'data-53-txt/spdata/5639391810273308416_spdata.txt': [], 'data-53-txt/spdata/45980377978968064_spdata.txt': [], 'data-53-txt/spdata/2405805697263561600_spdata.txt': [], 'data-53-txt/spdata/2901155648586891648_spdata.txt': [], 'data-53-txt/spdata/6127333286605955072_spdata.txt': [], 'data-53-txt/spdata/3257402879184420736_spdata.txt': [], 'data-53-txt/spdata/3348071631670500736_spdata.txt': [], 'data-53-txt/spdata/4016474027321256704_spdata.txt': [], 'data-53-txt/spdata/2398029465700538880_spdata.txt': [], 'data-53-txt/spdata/6749419923164242816_spdata.txt': [], 'data-53-txt/spdata/22745910577134848_spdata.txt': [], 'data-53-txt/spdata/6210089815971933056_spdata.txt': [], 'data-53-txt/spdata/4237169341286788096_spdata.txt': [], 'data-53-txt/spdata/2687733913283870336_spdata.txt': [], 'data-53-txt/spdata/3704392873141718912_spdata.txt': [], 'data-53-txt/spdata/3587107658569000960_spdata.txt': [], 'data-53-txt/spdata/2693940725141960192_spdata.txt': [], 'data-53-txt/spdata/775029739076581248_spdata.txt': [], 'data-53-txt/spdata/3289827339649866880_spdata.txt': [], 'data-53-txt/spdata/5444093531284061568_spdata.txt': [], 'data-53-txt/spdata/3959631234670040704_spdata.txt': [], 'data-53-txt/spdata/2910503176753011840_spdata.txt': [], 'data-53-txt/spdata/4922382445088509312_spdata.txt': [], 'data-53-txt/spdata/3629615946329315456_spdata.txt': [], 'data-53-txt/spdata/3304090857318319232_spdata.txt': [], 'data-53-txt/spdata/6709878766312642944_spdata.txt': [], 'data-53-txt/spdata/1473687671071803520_spdata.txt': [], 'data-53-txt/spdata/5024640977840398848_spdata.txt': [], 'data-53-txt/spdata/3944400490365194368_spdata.txt': [], 'data-53-txt/spdata/3251244858154433536_spdata.txt': [], 'data-53-txt/spdata/2717594072113956352_spdata.txt': [], 'data-53-txt/spdata/4249667902270614272_spdata.txt': [], 'data-53-txt/spdata/2448177130188111232_spdata.txt': [], 'data-53-txt/spdata/984190381489031424_spdata.txt': []}\n"
     ]
    }
   ],
   "source": [
    "# metadata parsing\n",
    "parsed_dir = 'data-53-txt/spdata'\n",
    "targets_spectra = []\n",
    "\n",
    "\n",
    "all_targets = {}\n",
    "\n",
    "all_entities = {}\n",
    "# Display the first few entities from the first file to check if everything is working as expected\n",
    "\n",
    "for filename in os.listdir(parsed_dir):\n",
    "    identifier, file_type = filename.rsplit('_', 1)[0], filename.rsplit('_', 1)[1].split('.')[0]\n",
    "\n",
    "    # Read the file contents\n",
    "    file_path = os.path.join(parsed_dir, filename)\n",
    "    target = parse_file(file_path)\n",
    "    all_entities[file_path] = target\n",
    "\n",
    "print(all_entities)"
   ],
   "metadata": {
    "collapsed": false,
    "ExecuteTime": {
     "end_time": "2023-09-25T13:51:02.355903310Z",
     "start_time": "2023-09-25T13:51:02.314555042Z"
    }
   },
   "id": "693aabcb88b0d85b"
  },
  {
   "cell_type": "markdown",
   "source": [
    "- #transitid: Identifier for the transit, usually a unique number.\n",
    "- obstime: Observation time, usually in ISO 8601 format.\n",
    "- fluxbpint: Integrated flux in the blue photometric band.\n",
    "- fluxbpinterror: Error in the integrated flux in the blue photometric band.\n",
    "- fluxrpint: Integrated flux in the red photometric band.\n",
    "- fluxrpinterror: Error in the integrated flux in the red photometric band.\n",
    "- bpimagequality: Quality metric for the image in the blue photometric band.\n",
    "- rpimagequality: Quality metric for the image in the red photometric band.\n",
    "- nu: Frequency of the observed phenomena, usually in Hz.\n",
    "- dnu: Error in the frequency.\n",
    "- flagspe: Flag related to the spectral data; usually an integer where each bit may represent some condition or quality metric.\n",
    "- provenance: Identifier to trace back the data, often an internal code.\n",
    "- run: Run identifier, typically used for data processing.\n",
    "- apflags: Flags related to aperture photometry.\n",
    "- obsobmt: Likely another observation time metric, possibly in a different format or reference frame.\n",
    "- bpwinal, bpwinac, rpwinal, rpwinac: Likely related to the window used for the blue and red photometric bands, possibly indicating the size and orientation of the window."
   ],
   "metadata": {
    "collapsed": false
   },
   "id": "d8d53e159d4eb8af"
  },
  {
   "cell_type": "code",
   "execution_count": 52,
   "outputs": [
    {
     "data": {
      "text/plain": "['103806349721006833',\n '[ 19049  19072  19231  19356  19526  19767  20163  20475  20807  21266']"
     },
     "execution_count": 52,
     "metadata": {},
     "output_type": "execute_result"
    }
   ],
   "source": [
    "read_csv(\"./data-53/22745910577134848_spdata.csv\")[1]"
   ],
   "metadata": {
    "collapsed": false,
    "ExecuteTime": {
     "end_time": "2023-09-11T16:26:56.833261016Z",
     "start_time": "2023-09-11T16:26:56.825864286Z"
    }
   },
   "id": "529ccc2ba932978f"
  },
  {
   "cell_type": "code",
   "execution_count": 48,
   "outputs": [
    {
     "ename": "IndexError",
     "evalue": "list index out of range",
     "output_type": "error",
     "traceback": [
      "\u001B[0;31m---------------------------------------------------------------------------\u001B[0m",
      "\u001B[0;31mIndexError\u001B[0m                                Traceback (most recent call last)",
      "Cell \u001B[0;32mIn[48], line 5\u001B[0m\n\u001B[1;32m      3\u001B[0m \u001B[38;5;28;01mfor\u001B[39;00m n \u001B[38;5;129;01min\u001B[39;00m \u001B[38;5;28mrange\u001B[39m(\u001B[38;5;241m1\u001B[39m,\u001B[38;5;28mlen\u001B[39m(test_data)):\n\u001B[1;32m      4\u001B[0m     \u001B[38;5;28;01mif\u001B[39;00m n \u001B[38;5;241m%\u001B[39m \u001B[38;5;241m11\u001B[39m \u001B[38;5;241m==\u001B[39m \u001B[38;5;241m0\u001B[39m:\n\u001B[0;32m----> 5\u001B[0m         \u001B[38;5;28mprint\u001B[39m(\u001B[43mtest_data\u001B[49m\u001B[43m[\u001B[49m\u001B[38;5;241;43m1\u001B[39;49m\u001B[43m]\u001B[49m\u001B[43m[\u001B[49m\u001B[43mn\u001B[49m\u001B[43m]\u001B[49m)\n",
      "\u001B[0;31mIndexError\u001B[0m: list index out of range"
     ]
    }
   ],
   "source": [
    "test_data = read_csv(\"./data-53/22745910577134848_spdata.csv\")\n",
    "\n",
    "for n in range(1,len(test_data)):\n",
    "    if n % 11 == 0:\n",
    "        print(test_data[1][n])"
   ],
   "metadata": {
    "collapsed": false,
    "ExecuteTime": {
     "end_time": "2023-09-11T16:26:36.006281019Z",
     "start_time": "2023-09-11T16:26:35.997810822Z"
    }
   },
   "id": "117e91fe702eb38"
  },
  {
   "cell_type": "code",
   "execution_count": null,
   "outputs": [],
   "source": [],
   "metadata": {
    "collapsed": false
   },
   "id": "119be5d1a0f269dd"
  }
 ],
 "metadata": {
  "kernelspec": {
   "display_name": "Python 3",
   "language": "python",
   "name": "python3"
  },
  "language_info": {
   "codemirror_mode": {
    "name": "ipython",
    "version": 2
   },
   "file_extension": ".py",
   "mimetype": "text/x-python",
   "name": "python",
   "nbconvert_exporter": "python",
   "pygments_lexer": "ipython2",
   "version": "2.7.6"
  }
 },
 "nbformat": 4,
 "nbformat_minor": 5
}
